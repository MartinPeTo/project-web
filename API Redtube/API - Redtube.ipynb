{
 "cells": [
  {
   "cell_type": "code",
   "execution_count": 1,
   "metadata": {},
   "outputs": [],
   "source": [
    "import json\n",
    "import requests\n",
    "import pandas as pd\n",
    "from pandas.io.json import json_normalize\n",
    "import matplotlib\n",
    "%matplotlib inline"
   ]
  },
  {
   "cell_type": "code",
   "execution_count": 2,
   "metadata": {},
   "outputs": [],
   "source": [
    "# headers definition\n",
    "headers = {'User-Agent': 'Mozilla/5.0 (X11; Linux x86_64) AppleWebKit/537.36 (KHTML, like Gecko) Chrome/75.0.3770.100 Safari/537.36'}\n",
    "#Ponemos la URL de ejemplo de la API para probar\n",
    "url = 'https://api.redtube.com/?data=redtube.Videos.searchVideos&output=json&search=hard&tags[]=Couple&ordering=newest&page=2'"
   ]
  },
  {
   "cell_type": "code",
   "execution_count": 3,
   "metadata": {},
   "outputs": [
    {
     "name": "stdout",
     "output_type": "stream",
     "text": [
      "<Response [200]>\n"
     ]
    },
    {
     "data": {
      "text/html": [
       "<div>\n",
       "<style scoped>\n",
       "    .dataframe tbody tr th:only-of-type {\n",
       "        vertical-align: middle;\n",
       "    }\n",
       "\n",
       "    .dataframe tbody tr th {\n",
       "        vertical-align: top;\n",
       "    }\n",
       "\n",
       "    .dataframe thead th {\n",
       "        text-align: right;\n",
       "    }\n",
       "</style>\n",
       "<table border=\"1\" class=\"dataframe\">\n",
       "  <thead>\n",
       "    <tr style=\"text-align: right;\">\n",
       "      <th></th>\n",
       "      <th>videos</th>\n",
       "      <th>count</th>\n",
       "    </tr>\n",
       "  </thead>\n",
       "  <tbody>\n",
       "    <tr>\n",
       "      <th>0</th>\n",
       "      <td>{'video': {'duration': '6:18', 'views': 1854, ...</td>\n",
       "      <td>14912</td>\n",
       "    </tr>\n",
       "    <tr>\n",
       "      <th>1</th>\n",
       "      <td>{'video': {'duration': '10:00', 'views': 672, ...</td>\n",
       "      <td>14912</td>\n",
       "    </tr>\n",
       "    <tr>\n",
       "      <th>2</th>\n",
       "      <td>{'video': {'duration': '8:59', 'views': 414, '...</td>\n",
       "      <td>14912</td>\n",
       "    </tr>\n",
       "    <tr>\n",
       "      <th>3</th>\n",
       "      <td>{'video': {'duration': '10:24', 'views': 566, ...</td>\n",
       "      <td>14912</td>\n",
       "    </tr>\n",
       "    <tr>\n",
       "      <th>4</th>\n",
       "      <td>{'video': {'duration': '10:18', 'views': 829, ...</td>\n",
       "      <td>14912</td>\n",
       "    </tr>\n",
       "  </tbody>\n",
       "</table>\n",
       "</div>"
      ],
      "text/plain": [
       "                                              videos  count\n",
       "0  {'video': {'duration': '6:18', 'views': 1854, ...  14912\n",
       "1  {'video': {'duration': '10:00', 'views': 672, ...  14912\n",
       "2  {'video': {'duration': '8:59', 'views': 414, '...  14912\n",
       "3  {'video': {'duration': '10:24', 'views': 566, ...  14912\n",
       "4  {'video': {'duration': '10:18', 'views': 829, ...  14912"
      ]
     },
     "execution_count": 3,
     "metadata": {},
     "output_type": "execute_result"
    }
   ],
   "source": [
    "response = requests.get(url,headers = headers)\n",
    "print(response)\n",
    "results = response.json()\n",
    "\n",
    "data = pd.DataFrame(results)\n",
    "data.head()"
   ]
  },
  {
   "cell_type": "code",
   "execution_count": 4,
   "metadata": {},
   "outputs": [
    {
     "data": {
      "text/html": [
       "<div>\n",
       "<style scoped>\n",
       "    .dataframe tbody tr th:only-of-type {\n",
       "        vertical-align: middle;\n",
       "    }\n",
       "\n",
       "    .dataframe tbody tr th {\n",
       "        vertical-align: top;\n",
       "    }\n",
       "\n",
       "    .dataframe thead th {\n",
       "        text-align: right;\n",
       "    }\n",
       "</style>\n",
       "<table border=\"1\" class=\"dataframe\">\n",
       "  <thead>\n",
       "    <tr style=\"text-align: right;\">\n",
       "      <th></th>\n",
       "      <th>video.default_thumb</th>\n",
       "      <th>video.duration</th>\n",
       "      <th>video.embed_url</th>\n",
       "      <th>video.publish_date</th>\n",
       "      <th>video.rating</th>\n",
       "      <th>video.ratings</th>\n",
       "      <th>video.tags</th>\n",
       "      <th>video.thumb</th>\n",
       "      <th>video.thumbs</th>\n",
       "      <th>video.title</th>\n",
       "      <th>video.url</th>\n",
       "      <th>video.video_id</th>\n",
       "      <th>video.views</th>\n",
       "    </tr>\n",
       "  </thead>\n",
       "  <tbody>\n",
       "    <tr>\n",
       "      <th>0</th>\n",
       "      <td>https://ci-ph.rdtcdn.com/videos/201907/17/2358...</td>\n",
       "      <td>6:18</td>\n",
       "      <td>https://embed.redtube.com/?id=19074901</td>\n",
       "      <td>2019-07-17 13:10:08</td>\n",
       "      <td>100</td>\n",
       "      <td>1</td>\n",
       "      <td>[{'tag_name': 'Anal Sex'}, {'tag_name': 'Big A...</td>\n",
       "      <td>https://ci-ph.rdtcdn.com/videos/201907/17/2358...</td>\n",
       "      <td>[{'size': 'small', 'width': 120, 'height': 90,...</td>\n",
       "      <td>4k Big tits latina anal fucking and hard squir...</td>\n",
       "      <td>https://www.redtube.com/19074901</td>\n",
       "      <td>19074901</td>\n",
       "      <td>1854</td>\n",
       "    </tr>\n",
       "    <tr>\n",
       "      <th>1</th>\n",
       "      <td>https://ci-ph.rdtcdn.com/videos/201907/15/2355...</td>\n",
       "      <td>10:00</td>\n",
       "      <td>https://embed.redtube.com/?id=19001481</td>\n",
       "      <td>2019-07-15 22:40:08</td>\n",
       "      <td>100</td>\n",
       "      <td>1</td>\n",
       "      <td>[{'tag_name': 'Big Ass'}, {'tag_name': 'Big Ti...</td>\n",
       "      <td>https://ci-ph.rdtcdn.com/videos/201907/15/2355...</td>\n",
       "      <td>[{'size': 'small', 'width': 120, 'height': 90,...</td>\n",
       "      <td>Thick Luscious Latina Angelina Castro Mouth Fu...</td>\n",
       "      <td>https://www.redtube.com/19001481</td>\n",
       "      <td>19001481</td>\n",
       "      <td>672</td>\n",
       "    </tr>\n",
       "    <tr>\n",
       "      <th>2</th>\n",
       "      <td>https://ei.rdtcdn.com/m=e0YH8f/media/videos/20...</td>\n",
       "      <td>8:59</td>\n",
       "      <td>https://embed.redtube.com/?id=18981811</td>\n",
       "      <td>2019-07-15 14:12:00</td>\n",
       "      <td>100</td>\n",
       "      <td>1</td>\n",
       "      <td>[{'tag_name': 'Amateur'}, {'tag_name': 'Big Ti...</td>\n",
       "      <td>https://ei.rdtcdn.com/m=e0YH8f/media/videos/20...</td>\n",
       "      <td>[{'size': 'small', 'width': 120, 'height': 90,...</td>\n",
       "      <td>Very Hard Coitus!</td>\n",
       "      <td>https://www.redtube.com/18981811</td>\n",
       "      <td>18981811</td>\n",
       "      <td>414</td>\n",
       "    </tr>\n",
       "    <tr>\n",
       "      <th>3</th>\n",
       "      <td>https://ei.rdtcdn.com/m=e0YH8f/media/videos/20...</td>\n",
       "      <td>10:24</td>\n",
       "      <td>https://embed.redtube.com/?id=18964781</td>\n",
       "      <td>2019-07-15 05:33:18</td>\n",
       "      <td>66.6667</td>\n",
       "      <td>3</td>\n",
       "      <td>[{'tag_name': 'Blonde'}, {'tag_name': 'Blowjob...</td>\n",
       "      <td>https://ei.rdtcdn.com/m=e0YH8f/media/videos/20...</td>\n",
       "      <td>[{'size': 'small', 'width': 120, 'height': 90,...</td>\n",
       "      <td>18videoz - Irma - Blonde wants it the hard way</td>\n",
       "      <td>https://www.redtube.com/18964781</td>\n",
       "      <td>18964781</td>\n",
       "      <td>566</td>\n",
       "    </tr>\n",
       "    <tr>\n",
       "      <th>4</th>\n",
       "      <td>https://ei.rdtcdn.com/m=e0YH8f/media/videos/20...</td>\n",
       "      <td>10:18</td>\n",
       "      <td>https://embed.redtube.com/?id=18954001</td>\n",
       "      <td>2019-07-15 01:14:50</td>\n",
       "      <td>100</td>\n",
       "      <td>1</td>\n",
       "      <td>[{'tag_name': 'Amateur'}, {'tag_name': 'Blonde...</td>\n",
       "      <td>https://ei.rdtcdn.com/m=e0YH8f/media/videos/20...</td>\n",
       "      <td>[{'size': 'small', 'width': 120, 'height': 90,...</td>\n",
       "      <td>Mom riding Cock Hard</td>\n",
       "      <td>https://www.redtube.com/18954001</td>\n",
       "      <td>18954001</td>\n",
       "      <td>829</td>\n",
       "    </tr>\n",
       "  </tbody>\n",
       "</table>\n",
       "</div>"
      ],
      "text/plain": [
       "                                 video.default_thumb video.duration  \\\n",
       "0  https://ci-ph.rdtcdn.com/videos/201907/17/2358...           6:18   \n",
       "1  https://ci-ph.rdtcdn.com/videos/201907/15/2355...          10:00   \n",
       "2  https://ei.rdtcdn.com/m=e0YH8f/media/videos/20...           8:59   \n",
       "3  https://ei.rdtcdn.com/m=e0YH8f/media/videos/20...          10:24   \n",
       "4  https://ei.rdtcdn.com/m=e0YH8f/media/videos/20...          10:18   \n",
       "\n",
       "                          video.embed_url   video.publish_date video.rating  \\\n",
       "0  https://embed.redtube.com/?id=19074901  2019-07-17 13:10:08          100   \n",
       "1  https://embed.redtube.com/?id=19001481  2019-07-15 22:40:08          100   \n",
       "2  https://embed.redtube.com/?id=18981811  2019-07-15 14:12:00          100   \n",
       "3  https://embed.redtube.com/?id=18964781  2019-07-15 05:33:18      66.6667   \n",
       "4  https://embed.redtube.com/?id=18954001  2019-07-15 01:14:50          100   \n",
       "\n",
       "   video.ratings                                         video.tags  \\\n",
       "0              1  [{'tag_name': 'Anal Sex'}, {'tag_name': 'Big A...   \n",
       "1              1  [{'tag_name': 'Big Ass'}, {'tag_name': 'Big Ti...   \n",
       "2              1  [{'tag_name': 'Amateur'}, {'tag_name': 'Big Ti...   \n",
       "3              3  [{'tag_name': 'Blonde'}, {'tag_name': 'Blowjob...   \n",
       "4              1  [{'tag_name': 'Amateur'}, {'tag_name': 'Blonde...   \n",
       "\n",
       "                                         video.thumb  \\\n",
       "0  https://ci-ph.rdtcdn.com/videos/201907/17/2358...   \n",
       "1  https://ci-ph.rdtcdn.com/videos/201907/15/2355...   \n",
       "2  https://ei.rdtcdn.com/m=e0YH8f/media/videos/20...   \n",
       "3  https://ei.rdtcdn.com/m=e0YH8f/media/videos/20...   \n",
       "4  https://ei.rdtcdn.com/m=e0YH8f/media/videos/20...   \n",
       "\n",
       "                                        video.thumbs  \\\n",
       "0  [{'size': 'small', 'width': 120, 'height': 90,...   \n",
       "1  [{'size': 'small', 'width': 120, 'height': 90,...   \n",
       "2  [{'size': 'small', 'width': 120, 'height': 90,...   \n",
       "3  [{'size': 'small', 'width': 120, 'height': 90,...   \n",
       "4  [{'size': 'small', 'width': 120, 'height': 90,...   \n",
       "\n",
       "                                         video.title  \\\n",
       "0  4k Big tits latina anal fucking and hard squir...   \n",
       "1  Thick Luscious Latina Angelina Castro Mouth Fu...   \n",
       "2                                  Very Hard Coitus!   \n",
       "3     18videoz - Irma - Blonde wants it the hard way   \n",
       "4                               Mom riding Cock Hard   \n",
       "\n",
       "                          video.url video.video_id  video.views  \n",
       "0  https://www.redtube.com/19074901       19074901         1854  \n",
       "1  https://www.redtube.com/19001481       19001481          672  \n",
       "2  https://www.redtube.com/18981811       18981811          414  \n",
       "3  https://www.redtube.com/18964781       18964781          566  \n",
       "4  https://www.redtube.com/18954001       18954001          829  "
      ]
     },
     "execution_count": 4,
     "metadata": {},
     "output_type": "execute_result"
    }
   ],
   "source": [
    "flattened_videos =  json_normalize(data.videos)\n",
    "\n",
    "data = pd.DataFrame(flattened_videos)\n",
    "data.head()"
   ]
  },
  {
   "cell_type": "code",
   "execution_count": 5,
   "metadata": {},
   "outputs": [
    {
     "data": {
      "text/plain": [
       "Index(['video.default_thumb', 'video.duration', 'video.embed_url',\n",
       "       'video.publish_date', 'video.rating', 'video.ratings', 'video.tags',\n",
       "       'video.thumb', 'video.thumbs', 'video.title', 'video.url',\n",
       "       'video.video_id', 'video.views'],\n",
       "      dtype='object')"
      ]
     },
     "execution_count": 5,
     "metadata": {},
     "output_type": "execute_result"
    }
   ],
   "source": [
    "data.columns"
   ]
  },
  {
   "cell_type": "code",
   "execution_count": 6,
   "metadata": {},
   "outputs": [
    {
     "data": {
      "text/plain": [
       "(20, 13)"
      ]
     },
     "execution_count": 6,
     "metadata": {},
     "output_type": "execute_result"
    }
   ],
   "source": [
    "data.shape"
   ]
  },
  {
   "cell_type": "code",
   "execution_count": 7,
   "metadata": {
    "scrolled": true
   },
   "outputs": [
    {
     "data": {
      "text/html": [
       "<div>\n",
       "<style scoped>\n",
       "    .dataframe tbody tr th:only-of-type {\n",
       "        vertical-align: middle;\n",
       "    }\n",
       "\n",
       "    .dataframe tbody tr th {\n",
       "        vertical-align: top;\n",
       "    }\n",
       "\n",
       "    .dataframe thead th {\n",
       "        text-align: right;\n",
       "    }\n",
       "</style>\n",
       "<table border=\"1\" class=\"dataframe\">\n",
       "  <thead>\n",
       "    <tr style=\"text-align: right;\">\n",
       "      <th></th>\n",
       "      <th>video.duration</th>\n",
       "      <th>video.publish_date</th>\n",
       "      <th>video.rating</th>\n",
       "      <th>video.ratings</th>\n",
       "      <th>video.tags</th>\n",
       "      <th>video.title</th>\n",
       "      <th>video.url</th>\n",
       "      <th>video.video_id</th>\n",
       "      <th>video.views</th>\n",
       "    </tr>\n",
       "  </thead>\n",
       "  <tbody>\n",
       "    <tr>\n",
       "      <th>0</th>\n",
       "      <td>6:18</td>\n",
       "      <td>2019-07-17 13:10:08</td>\n",
       "      <td>100</td>\n",
       "      <td>1</td>\n",
       "      <td>[{'tag_name': 'Anal Sex'}, {'tag_name': 'Big A...</td>\n",
       "      <td>4k Big tits latina anal fucking and hard squir...</td>\n",
       "      <td>https://www.redtube.com/19074901</td>\n",
       "      <td>19074901</td>\n",
       "      <td>1854</td>\n",
       "    </tr>\n",
       "    <tr>\n",
       "      <th>1</th>\n",
       "      <td>10:00</td>\n",
       "      <td>2019-07-15 22:40:08</td>\n",
       "      <td>100</td>\n",
       "      <td>1</td>\n",
       "      <td>[{'tag_name': 'Big Ass'}, {'tag_name': 'Big Ti...</td>\n",
       "      <td>Thick Luscious Latina Angelina Castro Mouth Fu...</td>\n",
       "      <td>https://www.redtube.com/19001481</td>\n",
       "      <td>19001481</td>\n",
       "      <td>672</td>\n",
       "    </tr>\n",
       "    <tr>\n",
       "      <th>2</th>\n",
       "      <td>8:59</td>\n",
       "      <td>2019-07-15 14:12:00</td>\n",
       "      <td>100</td>\n",
       "      <td>1</td>\n",
       "      <td>[{'tag_name': 'Amateur'}, {'tag_name': 'Big Ti...</td>\n",
       "      <td>Very Hard Coitus!</td>\n",
       "      <td>https://www.redtube.com/18981811</td>\n",
       "      <td>18981811</td>\n",
       "      <td>414</td>\n",
       "    </tr>\n",
       "    <tr>\n",
       "      <th>3</th>\n",
       "      <td>10:24</td>\n",
       "      <td>2019-07-15 05:33:18</td>\n",
       "      <td>66.6667</td>\n",
       "      <td>3</td>\n",
       "      <td>[{'tag_name': 'Blonde'}, {'tag_name': 'Blowjob...</td>\n",
       "      <td>18videoz - Irma - Blonde wants it the hard way</td>\n",
       "      <td>https://www.redtube.com/18964781</td>\n",
       "      <td>18964781</td>\n",
       "      <td>566</td>\n",
       "    </tr>\n",
       "    <tr>\n",
       "      <th>4</th>\n",
       "      <td>10:18</td>\n",
       "      <td>2019-07-15 01:14:50</td>\n",
       "      <td>100</td>\n",
       "      <td>1</td>\n",
       "      <td>[{'tag_name': 'Amateur'}, {'tag_name': 'Blonde...</td>\n",
       "      <td>Mom riding Cock Hard</td>\n",
       "      <td>https://www.redtube.com/18954001</td>\n",
       "      <td>18954001</td>\n",
       "      <td>829</td>\n",
       "    </tr>\n",
       "  </tbody>\n",
       "</table>\n",
       "</div>"
      ],
      "text/plain": [
       "  video.duration   video.publish_date video.rating  video.ratings  \\\n",
       "0           6:18  2019-07-17 13:10:08          100              1   \n",
       "1          10:00  2019-07-15 22:40:08          100              1   \n",
       "2           8:59  2019-07-15 14:12:00          100              1   \n",
       "3          10:24  2019-07-15 05:33:18      66.6667              3   \n",
       "4          10:18  2019-07-15 01:14:50          100              1   \n",
       "\n",
       "                                          video.tags  \\\n",
       "0  [{'tag_name': 'Anal Sex'}, {'tag_name': 'Big A...   \n",
       "1  [{'tag_name': 'Big Ass'}, {'tag_name': 'Big Ti...   \n",
       "2  [{'tag_name': 'Amateur'}, {'tag_name': 'Big Ti...   \n",
       "3  [{'tag_name': 'Blonde'}, {'tag_name': 'Blowjob...   \n",
       "4  [{'tag_name': 'Amateur'}, {'tag_name': 'Blonde...   \n",
       "\n",
       "                                         video.title  \\\n",
       "0  4k Big tits latina anal fucking and hard squir...   \n",
       "1  Thick Luscious Latina Angelina Castro Mouth Fu...   \n",
       "2                                  Very Hard Coitus!   \n",
       "3     18videoz - Irma - Blonde wants it the hard way   \n",
       "4                               Mom riding Cock Hard   \n",
       "\n",
       "                          video.url video.video_id  video.views  \n",
       "0  https://www.redtube.com/19074901       19074901         1854  \n",
       "1  https://www.redtube.com/19001481       19001481          672  \n",
       "2  https://www.redtube.com/18981811       18981811          414  \n",
       "3  https://www.redtube.com/18964781       18964781          566  \n",
       "4  https://www.redtube.com/18954001       18954001          829  "
      ]
     },
     "execution_count": 7,
     "metadata": {},
     "output_type": "execute_result"
    }
   ],
   "source": [
    "data.drop(['video.default_thumb', 'video.embed_url',\n",
    "       'video.thumb', 'video.thumbs'], axis=1, inplace=True)\n",
    "data.head()"
   ]
  },
  {
   "cell_type": "code",
   "execution_count": 8,
   "metadata": {},
   "outputs": [
    {
     "data": {
      "text/plain": [
       "array(['100', '66.6667', '59.2593', '50', 0, '75', '73.3333'],\n",
       "      dtype=object)"
      ]
     },
     "execution_count": 8,
     "metadata": {},
     "output_type": "execute_result"
    }
   ],
   "source": [
    "data['video.rating'].unique()"
   ]
  },
  {
   "cell_type": "code",
   "execution_count": 9,
   "metadata": {},
   "outputs": [],
   "source": [
    "#La API funciona y esto nos permite ver la forma de los datos que se extraen por lo que podemos entrar al estudio en si."
   ]
  },
  {
   "cell_type": "code",
   "execution_count": 18,
   "metadata": {},
   "outputs": [
    {
     "data": {
      "text/plain": [
       "(68, 2)"
      ]
     },
     "execution_count": 18,
     "metadata": {},
     "output_type": "execute_result"
    }
   ],
   "source": [
    "#Lo primero de todo, buscamos las categorias existentes:\n",
    "\n",
    "category_url = 'https://api.redtube.com/?data=redtube.Categories.getCategoriesList&output=json'\n",
    "category_response = requests.get(category_url,headers = headers)\n",
    "category_results = category_response.json()\n",
    "\n",
    "category_data = pd.DataFrame(category_results['categories'])\n",
    "category_data.head"
   ]
  },
  {
   "cell_type": "code",
   "execution_count": 11,
   "metadata": {
    "scrolled": true
   },
   "outputs": [
    {
     "ename": "NameError",
     "evalue": "name 'category_data' is not defined",
     "output_type": "error",
     "traceback": [
      "\u001b[0;31m---------------------------------------------------------------------------\u001b[0m",
      "\u001b[0;31mNameError\u001b[0m                                 Traceback (most recent call last)",
      "\u001b[0;32m<ipython-input-11-5b1a575d70f1>\u001b[0m in \u001b[0;36m<module>\u001b[0;34m\u001b[0m\n\u001b[0;32m----> 1\u001b[0;31m \u001b[0mcategory_data\u001b[0m\u001b[0;34m.\u001b[0m\u001b[0mtail\u001b[0m\u001b[0;34m(\u001b[0m\u001b[0;36m40\u001b[0m\u001b[0;34m)\u001b[0m\u001b[0;34m\u001b[0m\u001b[0;34m\u001b[0m\u001b[0m\n\u001b[0m",
      "\u001b[0;31mNameError\u001b[0m: name 'category_data' is not defined"
     ]
    }
   ],
   "source": [
    "category_data.tail(40)"
   ]
  },
  {
   "cell_type": "code",
   "execution_count": null,
   "metadata": {
    "scrolled": true
   },
   "outputs": [],
   "source": [
    "category_data.shape"
   ]
  },
  {
   "cell_type": "code",
   "execution_count": null,
   "metadata": {},
   "outputs": [],
   "source": [
    "#68 categorias son muchas para comparar, reduciremos a solo a 5:\n",
    "categories = ['Amateur', 'Anal', 'Blowjob', 'Public', 'Threesome']"
   ]
  },
  {
   "cell_type": "code",
   "execution_count": null,
   "metadata": {},
   "outputs": [],
   "source": [
    "#Definimos una función para buscar que tenga como parametros de entrada los parámetros de busqueda:\n",
    "#Los parametros existentes son estos: category, page, search, tags, stars, thumbsize, ordering and period.\n",
    "#No los utilizaremos todos necesariamente en la función:\n",
    "def chilltime(category = None, page = None, search = None, tags = None, stars = None, ordering = None, period = None):\n",
    "    url = 'https://api.redtube.com/?data=redtube.Videos.searchVideos&output=json'\n",
    "    if category != None:\n",
    "        url = url + '&category=' + category\n",
    "    if page != None:\n",
    "        url = url + '&page=' + str(page)\n",
    "    if search != None:\n",
    "        url = url + '&search=' + search\n",
    "    if tags != None:\n",
    "        url = url + '&tags[]=' + str(tags)\n",
    "    if stars != None:\n",
    "        url = url + '&stars[]=' + str(stars)\n",
    "    if ordering in ['newest', 'mostviewed', 'rating']:\n",
    "        url = url + '&ordering=' + ordering\n",
    "        if period in ['weekly', 'monthly', 'alltime']:\n",
    "            url = url + '&period=' + period\n",
    "    response = requests.get(url,headers = headers)\n",
    "    results = response.json()\n",
    "    redt = pd.DataFrame(results)\n",
    "    flattened_redt =  json_normalize(redt.videos)\n",
    "    redt_df = pd.DataFrame(flattened_redt)\n",
    "    redt_df.drop(['video.default_thumb', 'video.embed_url',\n",
    "       'video.thumb', 'video.thumbs'], axis=1, inplace=True)\n",
    "    redt_df.columns = ['Duracion', 'Fecha', 'Rating', 'Votos', 'Tags', 'Titulo', 'URL', 'id', 'Visualizaciones']\n",
    "    #Convertimos el rating a float:\n",
    "    redt_df['Rating']=pd.to_numeric(redt_df.Rating, errors='coerce')\n",
    "    redt_df['Votos']=pd.to_numeric(redt_df.Votos, errors='coerce')\n",
    "    redt_df['Visualizaciones']=pd.to_numeric(redt_df.Visualizaciones, errors='coerce')\n",
    "\n",
    "    return redt_df"
   ]
  },
  {
   "cell_type": "code",
   "execution_count": null,
   "metadata": {},
   "outputs": [],
   "source": [
    "#Comenzaremos anañizando los mas vistos de cada categoría\n",
    "#Ahora creamos los 5 dataframe (uno por categoria)\n",
    "columns = ['Duracion', 'Fecha', 'Rating', 'Votos', 'Tags', 'Titulo', 'URL', 'id', 'Visualizaciones']\n",
    "\n",
    "amateur_df = pd.DataFrame(columns=columns)\n",
    "anal_df = pd.DataFrame(columns=columns)\n",
    "blowjob_df = pd.DataFrame(columns=columns)\n",
    "public_df = pd.DataFrame(columns=columns)\n",
    "threesome_df = pd.DataFrame(columns=columns)\n",
    "\n",
    "#Las variables que pondremos son: category = la categoria correspondiente\n",
    "#Page, salen 20 por page, cargaremos 10 pages en un loop\n",
    "#Ordering = mostviewed\n",
    "\n",
    "for pag in range (10):\n",
    "    amateur_df  = amateur_df.append(chilltime(category = 'Amateur', page = pag, ordering = 'mostviewed'), ignore_index=True)\n",
    "    anal_df  = anal_df.append(chilltime(category = 'Anal', page = pag, ordering = 'mostviewed'), ignore_index=True)\n",
    "    blowjob_df  = blowjob_df.append(chilltime(category = 'Blowjob', page = pag, ordering = 'mostviewed'), ignore_index=True)\n",
    "    public_df  = public_df.append(chilltime(category = 'Public', page = pag, ordering = 'mostviewed'), ignore_index=True)\n",
    "    threesome_df  = threesome_df.append(chilltime(category = 'Threesome', page = pag, ordering = 'mostviewed'), ignore_index=True)\n",
    "    \n",
    "print(amateur_df.shape)\n",
    "print(anal_df.shape)\n",
    "print(blowjob_df.shape)\n",
    "print(public_df.shape)\n",
    "print(threesome_df.shape)"
   ]
  },
  {
   "cell_type": "code",
   "execution_count": null,
   "metadata": {
    "scrolled": true
   },
   "outputs": [],
   "source": [
    "amateur_df.shape"
   ]
  },
  {
   "cell_type": "code",
   "execution_count": null,
   "metadata": {
    "scrolled": true
   },
   "outputs": [],
   "source": [
    "amateur_df['Visualizaciones'].mean()"
   ]
  },
  {
   "cell_type": "code",
   "execution_count": null,
   "metadata": {},
   "outputs": [],
   "source": [
    "amateur_df['Rating'].mean()"
   ]
  },
  {
   "cell_type": "code",
   "execution_count": null,
   "metadata": {},
   "outputs": [],
   "source": [
    "print((amateur_df['Visualizaciones'].max()-amateur_df['Visualizaciones'].min()))"
   ]
  },
  {
   "cell_type": "code",
   "execution_count": null,
   "metadata": {
    "scrolled": true
   },
   "outputs": [],
   "source": [
    "amateur_df.head()"
   ]
  },
  {
   "cell_type": "code",
   "execution_count": null,
   "metadata": {},
   "outputs": [],
   "source": [
    "#Como no aparece la categoría en la base de datos, sacaremos los datos de cada categoria\n",
    "#Y añadiremos los datos que queremos sacar en una base de datos que crearemos a continuación:\n",
    "#Estos son los datos que analizaremos de cada categoria\n",
    "columns_results = ['Category','Avg_Visitors','Avg_Rating','Avg_votes','Most_Viewed', 'Range_Visitors']\n",
    "results_df = pd.DataFrame(columns=columns_results)"
   ]
  },
  {
   "cell_type": "code",
   "execution_count": null,
   "metadata": {},
   "outputs": [],
   "source": [
    "#Ahora creamos un loop que saca los datos de cada categoria, calcula las metricas que nos interesan\n",
    "#y las añadimos a la base de datos\n",
    "\n",
    "#Las variables que pondremos son: category = la categoria correspondiente\n",
    "#Page, salen 20 por page, cargaremos 10 pages en un loop\n",
    "#Ordering = mostviewed\n",
    "i = 0\n",
    "for cat in category_data.category:\n",
    "    columns = ['Duracion', 'Fecha', 'Rating', 'Votos', 'Tags', 'Titulo', 'URL', 'id', 'Visualizaciones']\n",
    "    df = pd.DataFrame(columns=columns) #Creamos un dataframe temporal\n",
    "    #Para cada categoria sacamos los datos en el DF temporal:\n",
    "    for pag in range (10):\n",
    "        df = df.append(chilltime(category = cat, page = pag, ordering = 'mostviewed'), ignore_index=True)\n",
    "    #Sacamos los valores que nos interesan de DF temporal\n",
    "    avg_visit = df['Visualizaciones'].mean()\n",
    "    avg_rating = df['Rating'].mean()\n",
    "    avg_votes = df['Votos'].mean()\n",
    "    most_view = df['Visualizaciones'].max()\n",
    "    range_visit = (df['Visualizaciones'].max()-df['Visualizaciones'].min())\n",
    "    #Añadimos los valores al dataframe que hemos creado:\n",
    "    results_df.loc[i]=[cat, avg_visit, avg_rating, avg_votes, most_view, range_visit]\n",
    "    i += 1\n",
    "    \n",
    "\n",
    "print(results_df.shape)\n",
    "results_df.head()"
   ]
  },
  {
   "cell_type": "code",
   "execution_count": null,
   "metadata": {},
   "outputs": [],
   "source": [
    "#Sort categories by the average number of visitors\n",
    "top_visitors = results_df.sort_values(by=['Avg_Visitors'], ascending = False).head(10)\n",
    "top_visitors\n"
   ]
  },
  {
   "cell_type": "code",
   "execution_count": null,
   "metadata": {},
   "outputs": [],
   "source": [
    "top_visitors.plot.bar(x='Category', y='Avg_Visitors', rot=90)"
   ]
  },
  {
   "cell_type": "code",
   "execution_count": null,
   "metadata": {},
   "outputs": [],
   "source": [
    "#Sort categories by the average rating\n",
    "top_rating = results_df.sort_values(by=['Avg_Rating'], ascending = False).head(10)\n",
    "top_rating"
   ]
  },
  {
   "cell_type": "code",
   "execution_count": null,
   "metadata": {},
   "outputs": [],
   "source": [
    "top_rating.plot.bar(x='Category', y='Avg_Rating', rot=90)"
   ]
  },
  {
   "cell_type": "code",
   "execution_count": null,
   "metadata": {},
   "outputs": [],
   "source": [
    "#Sort categories by the range visitors\n",
    "top_range = results_df.sort_values(by=['Range_Visitors'], ascending = False).head(10)\n",
    "top_range"
   ]
  },
  {
   "cell_type": "code",
   "execution_count": null,
   "metadata": {},
   "outputs": [],
   "source": [
    "top_range.plot.bar(x='Category', y='Range_Visitors', rot=90)"
   ]
  },
  {
   "cell_type": "code",
   "execution_count": null,
   "metadata": {},
   "outputs": [],
   "source": [
    "top_viewed = results_df.sort_values(by=['Most_Viewed'], ascending = False).head(10)\n",
    "top_viewed"
   ]
  },
  {
   "cell_type": "code",
   "execution_count": null,
   "metadata": {},
   "outputs": [],
   "source": [
    "#Conclusions:\n",
    "#The most rated categories are not the most viewed.\n",
    "#Probably this mean that users don't follow ratings to select videos.\n",
    "\n",
    "#Similar categories (big...) has similar results of visitors so problably, or people choose similar categories\n",
    "#or some videos are clasified with similar categories.\n",
    "\n",
    "#The most viewed table shows that videos have various categories."
   ]
  },
  {
   "cell_type": "code",
   "execution_count": null,
   "metadata": {},
   "outputs": [],
   "source": [
    "#Results per period = weekly\n",
    "columns_results = ['Category','Avg_Visitors','Avg_Rating','Avg_votes','Most_Viewed', 'Range_Visitors']\n",
    "week_results_df = pd.DataFrame(columns=columns_results)\n",
    "\n",
    "i = 0\n",
    "for cat in category_data.category:\n",
    "    columns = ['Duracion', 'Fecha', 'Rating', 'Votos', 'Tags', 'Titulo', 'URL', 'id', 'Visualizaciones']\n",
    "    df = pd.DataFrame(columns=columns) #Creamos un dataframe temporal\n",
    "    #Para cada categoria sacamos los datos en el DF temporal:\n",
    "    for pag in range (10):\n",
    "        df = df.append(chilltime(category = cat, page = pag, ordering = 'mostviewed', period = 'weekly'), ignore_index=True)\n",
    "    #Sacamos los valores que nos interesan de DF temporal\n",
    "    avg_visit = df['Visualizaciones'].mean()\n",
    "    avg_rating = df['Rating'].mean()\n",
    "    avg_votes = df['Votos'].mean()\n",
    "    most_view = df['Visualizaciones'].max()\n",
    "    range_visit = (df['Visualizaciones'].max()-df['Visualizaciones'].min())\n",
    "    #Añadimos los valores al dataframe que hemos creado:\n",
    "    week_results_df.loc[i]=[cat, avg_visit, avg_rating, avg_votes, most_view, range_visit]\n",
    "    i += 1\n",
    "    \n",
    "\n",
    "print(week_results_df.shape)\n",
    "week_results_df.head()"
   ]
  },
  {
   "cell_type": "code",
   "execution_count": null,
   "metadata": {},
   "outputs": [],
   "source": [
    "week_top_visitors = week_results_df.sort_values(by=['Avg_Visitors'], ascending = False).head(10)\n",
    "week_top_visitors\n"
   ]
  },
  {
   "cell_type": "code",
   "execution_count": null,
   "metadata": {},
   "outputs": [],
   "source": [
    "week_top_visitors.plot.bar(x='Category', y='Avg_Visitors', rot=90)"
   ]
  },
  {
   "cell_type": "code",
   "execution_count": null,
   "metadata": {},
   "outputs": [],
   "source": [
    "week_top_rating = week_results_df.sort_values(by=['Avg_Rating'], ascending = False).head(10)\n",
    "week_top_rating"
   ]
  },
  {
   "cell_type": "code",
   "execution_count": null,
   "metadata": {},
   "outputs": [],
   "source": [
    "week_top_rating.plot.bar(x='Category', y='Avg_Rating', rot=90)"
   ]
  },
  {
   "cell_type": "code",
   "execution_count": null,
   "metadata": {},
   "outputs": [],
   "source": [
    "week_top_range = week_results_df.sort_values(by=['Range_Visitors'], ascending = False).head(10)\n",
    "week_top_range"
   ]
  },
  {
   "cell_type": "code",
   "execution_count": null,
   "metadata": {},
   "outputs": [],
   "source": [
    "week_top_range.plot.bar(x='Category', y='Range_Visitors', rot=90)"
   ]
  },
  {
   "cell_type": "code",
   "execution_count": null,
   "metadata": {},
   "outputs": [],
   "source": []
  }
 ],
 "metadata": {
  "kernelspec": {
   "display_name": "Python 3",
   "language": "python",
   "name": "python3"
  },
  "language_info": {
   "codemirror_mode": {
    "name": "ipython",
    "version": 3
   },
   "file_extension": ".py",
   "mimetype": "text/x-python",
   "name": "python",
   "nbconvert_exporter": "python",
   "pygments_lexer": "ipython3",
   "version": "3.6.8"
  }
 },
 "nbformat": 4,
 "nbformat_minor": 2
}
